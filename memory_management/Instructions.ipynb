{
 "cells": [
  {
   "cell_type": "markdown",
   "metadata": {},
   "source": [
    "# Memory Managment Tool"
   ]
  },
  {
   "cell_type": "markdown",
   "metadata": {},
   "source": [
    "## About the project"
   ]
  },
  {
   "cell_type": "markdown",
   "metadata": {},
   "source": [
    "How many times you were run out of memroy in your computer and had to delete files but could not tell which files are consuming too much memory?\n",
    "\n",
    "This tool can help you answer this question.\n",
    "\n",
    "In this project you'll get to create a memory management helper which detects all files under a certain directory which are larger than a selected file size.\n",
    "For example finding all files in the $HOME directory which their size is greater than 10MB.\n",
    "\n",
    "<blockquote>\n",
    "    <b>Note</b>: files can be nested to an arbitrary depth.\n",
    "</blockquote>"
   ]
  },
  {
   "cell_type": "markdown",
   "metadata": {},
   "source": [
    "## Python Skills You'll Gain"
   ]
  },
  {
   "cell_type": "markdown",
   "metadata": {},
   "source": [
    "<ul>\n",
    "    <li> Implementing a recursion script </li>\n",
    "    <li> Working with os.path directory </li>\n",
    " </ul>"
   ]
  },
  {
   "cell_type": "markdown",
   "metadata": {},
   "source": [
    "## Instructions"
   ]
  },
  {
   "cell_type": "markdown",
   "metadata": {},
   "source": [
    "<ol>\n",
    "<li> Create a function which gets as input the base directory and the minimal file size to detect. </li>\n",
    "<li> Crawl the directory and its sub directory (and so on) to detect all files which their size is larger than hte minimal file size. </li>\n",
    "<li> Return a list of the found files and their size. </li>\n",
    "</ol>\n"
   ]
  }
 ],
 "metadata": {
  "kernelspec": {
   "display_name": "Python 3",
   "language": "python",
   "name": "python3"
  },
  "language_info": {
   "codemirror_mode": {
    "name": "ipython",
    "version": 3
   },
   "file_extension": ".py",
   "mimetype": "text/x-python",
   "name": "python",
   "nbconvert_exporter": "python",
   "pygments_lexer": "ipython3",
   "version": "3.7.6"
  }
 },
 "nbformat": 4,
 "nbformat_minor": 4
}
