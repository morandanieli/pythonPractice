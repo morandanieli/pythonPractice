{
 "cells": [
  {
   "cell_type": "markdown",
   "metadata": {},
   "source": [
    "# English English Dictionary"
   ]
  },
  {
   "cell_type": "markdown",
   "metadata": {},
   "source": [
    "## About the project"
   ]
  },
  {
   "cell_type": "markdown",
   "metadata": {},
   "source": [
    "In this project you'll get to build you're own English English dictionary."
   ]
  },
  {
   "cell_type": "markdown",
   "metadata": {},
   "source": [
    "## Python Skills You'll Gain"
   ]
  },
  {
   "cell_type": "markdown",
   "metadata": {},
   "source": [
    "<ul>\n",
    "    <li> Good understanding of the Python dictionary data type </li>\n",
    "    <li> Using 'for' and 'while' loops </li>\n",
    "    <li> Basic usage in Python Json library </li>\n",
    "    <li> Working with input from the user </li>\n",
    " </ul>"
   ]
  },
  {
   "cell_type": "markdown",
   "metadata": {},
   "source": [
    "## Instructions"
   ]
  },
  {
   "cell_type": "markdown",
   "metadata": {},
   "source": [
    "<ol>\n",
    "<li> Download dictionary file from the <a href='https://drive.google.com/uc?export=download&id=1WvcRzSnpusMM0AkVN_NpUDsc6rdL9_Uf'>following link</a>.</li>\n",
    "<li> Load the dictionary file.</li>\n",
    "<li> Ask the user to choose a word for translation.</li>\n",
    "<li> If the word does not exist in the dictionary - print appropriate error message, otherwise\n",
    "    present the translation.\n",
    "    <blockquote>\n",
    "    Note: some words have multiple meaning. For example, search for the translation of the word: 'bad'.</blockquote>\n",
    "</li>\n",
    "<li> <b>Advanced</b>: Preform automatic spell checking using difflib library: https://docs.python.org/3/library/difflib.html\n",
    "</li>\n",
    "</ol>\n",
    "For example:\n"
   ]
  },
  {
   "cell_type": "code",
   "execution_count": 8,
   "metadata": {},
   "outputs": [
    {
     "data": {
      "text/plain": [
       "['apple']"
      ]
     },
     "execution_count": 8,
     "metadata": {},
     "output_type": "execute_result"
    }
   ],
   "source": [
    "import difflib\n",
    "\n",
    "word = 'aple'\n",
    "possibilities = ['app', 'apple', 'tomato', 'cucumber']\n",
    "difflib.get_close_matches(word, possibilities, n=3, cutoff=0.6)"
   ]
  }
 ],
 "metadata": {
  "kernelspec": {
   "display_name": "Python 3",
   "language": "python",
   "name": "python3"
  },
  "language_info": {
   "codemirror_mode": {
    "name": "ipython",
    "version": 3
   },
   "file_extension": ".py",
   "mimetype": "text/x-python",
   "name": "python",
   "nbconvert_exporter": "python",
   "pygments_lexer": "ipython3",
   "version": "3.7.6"
  }
 },
 "nbformat": 4,
 "nbformat_minor": 4
}
