{
 "cells": [
  {
   "cell_type": "markdown",
   "id": "7afd3b22",
   "metadata": {},
   "source": [
    "## Automatic Sudoku Solver"
   ]
  },
  {
   "cell_type": "markdown",
   "id": "ee8ec560",
   "metadata": {},
   "source": [
    "In this lab, you are going to build an automatic sudoku solver.\n",
    "\n",
    "You can check out the end result at the following video:"
   ]
  },
  {
   "cell_type": "markdown",
   "id": "5d032a5b",
   "metadata": {},
   "source": [
    "https://github.com/morandanieli/pythonPractice/blob/master/sudoku/demo.mp4"
   ]
  },
  {
   "cell_type": "markdown",
   "id": "10a4f0c7",
   "metadata": {},
   "source": [
    "This task has two sections:\n",
    "\n",
    "  1. In section #1, you'll build a Sudoko validator. Instructions here: https://leetcode.com/problems/valid-sudoku/\n",
    "\n",
    "  2. In section #2 you'll build a Sudoko solver. Instructions here: https://leetcode.com/problems/sudoku-solver/\n",
    "\n",
    "\n",
    "Once code is ready, in order to connect it to the prebuilt UI, incorpoerate your code in the entry points found in `sudoku_practice` directory\n",
    "\n",
    "The solution can be found in `sudoku_solution` directory\n",
    "\n",
    "Good luck!"
   ]
  }
 ],
 "metadata": {
  "kernelspec": {
   "display_name": "Python 3 (ipykernel)",
   "language": "python",
   "name": "python3"
  },
  "language_info": {
   "codemirror_mode": {
    "name": "ipython",
    "version": 3
   },
   "file_extension": ".py",
   "mimetype": "text/x-python",
   "name": "python",
   "nbconvert_exporter": "python",
   "pygments_lexer": "ipython3",
   "version": "3.9.7"
  }
 },
 "nbformat": 4,
 "nbformat_minor": 5
}
