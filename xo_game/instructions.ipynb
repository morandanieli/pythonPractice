{
 "cells": [
  {
   "cell_type": "markdown",
   "metadata": {},
   "source": [
    "# XO Game"
   ]
  },
  {
   "cell_type": "markdown",
   "metadata": {},
   "source": [
    "Following are instructions for building a XO game in which two human players are playing. \n",
    "In order to complete the practice, write down the requested functions and finally combine them into a complete game.\n",
    "\n",
    "For a more advanced version, consider the following options:\n",
    " - Use object oriented programming in order to program the game\n",
    " - Add a GUI using Tkinter library\n",
    " - Write a human vs. computer game: replace one human player with an automated player. The automated player should selects the board position randomly.\n",
    " - Write a computer vs. computer game: use two automated players against each other.\n",
    " "
   ]
  },
  {
   "cell_type": "markdown",
   "metadata": {},
   "source": [
    "## Practice"
   ]
  },
  {
   "cell_type": "markdown",
   "metadata": {
    "id": "04aX9YZrunUg"
   },
   "source": [
    "1. Create a N*N game board"
   ]
  },
  {
   "cell_type": "code",
   "execution_count": null,
   "metadata": {
    "id": "KN1BH9_EwK7W"
   },
   "outputs": [],
   "source": [
    "def create_board(n=3):\n",
    "  # HINT\n",
    "  ## For n=3, this function should return the following board:\n",
    "  # board = [\n",
    "  #   [None, None, None],\n",
    "  #   [None, None, None],\n",
    "  #   [None, None, None]\n",
    "  # ]\n",
    "  pass"
   ]
  },
  {
   "cell_type": "markdown",
   "metadata": {
    "id": "04aX9YZrunUg"
   },
   "source": [
    "2. Create a method which prints the board nicely"
   ]
  },
  {
   "cell_type": "code",
   "execution_count": 1,
   "metadata": {},
   "outputs": [],
   "source": [
    "def print_board(board):\n",
    "    pass"
   ]
  },
  {
   "cell_type": "markdown",
   "metadata": {},
   "source": [
    "3. Create the following methods for the board:\n",
    " - is_full(board) \n",
    " - has_winner(board) - for simplicity, just check the rows\n",
    " - add_shape(board, shape, row, col) - add a shape to the board"
   ]
  },
  {
   "cell_type": "code",
   "execution_count": null,
   "metadata": {
    "id": "CF_lNhgw1P2y"
   },
   "outputs": [],
   "source": [
    "def is_full(board):\n",
    "  pass\n",
    "\n",
    "def has_winner(board):\n",
    "  pass\n",
    "\n",
    "def add_shape(board, shape, row, col):\n",
    "  pass\n"
   ]
  },
  {
   "cell_type": "markdown",
   "metadata": {},
   "source": [
    "4. Create a full game - 2 users, on each user's turn, ask for the row/col for their shape, add to the board. Stop the game when the board is full or someone wins."
   ]
  },
  {
   "cell_type": "code",
   "execution_count": null,
   "metadata": {},
   "outputs": [],
   "source": []
  }
 ],
 "metadata": {
  "colab": {
   "collapsed_sections": [],
   "name": "game.ipynb",
   "provenance": []
  },
  "kernelspec": {
   "display_name": "Python 3 (ipykernel)",
   "language": "python",
   "name": "python3"
  },
  "language_info": {
   "codemirror_mode": {
    "name": "ipython",
    "version": 3
   },
   "file_extension": ".py",
   "mimetype": "text/x-python",
   "name": "python",
   "nbconvert_exporter": "python",
   "pygments_lexer": "ipython3",
   "version": "3.9.7"
  }
 },
 "nbformat": 4,
 "nbformat_minor": 1
}
