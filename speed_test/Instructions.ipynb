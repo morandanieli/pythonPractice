{
 "cells": [
  {
   "cell_type": "markdown",
   "metadata": {},
   "source": [
    "# Typing Speed Test"
   ]
  },
  {
   "cell_type": "markdown",
   "metadata": {},
   "source": [
    "## About the project"
   ]
  },
  {
   "cell_type": "markdown",
   "metadata": {},
   "source": [
    "In this project you'll get to build a typing speed test in which you'll measure the time it taskes the user to type arbitrary sentences."
   ]
  },
  {
   "cell_type": "markdown",
   "metadata": {},
   "source": [
    "## Python Skills You'll Gain"
   ]
  },
  {
   "cell_type": "markdown",
   "metadata": {},
   "source": [
    "<ul>\n",
    "    <li> Workign with files </li>\n",
    "    <li> Working with 'json', 'random', 'copy' and 'time' libraries </li>\n",
    "    <li> Working with input from the user </li>\n",
    " </ul>"
   ]
  },
  {
   "cell_type": "markdown",
   "metadata": {},
   "source": [
    "## Instructions"
   ]
  },
  {
   "cell_type": "markdown",
   "metadata": {},
   "source": [
    "<ol>\n",
    "<li> Use 'sentences.txt' file as a refrence file for sentences or create one of your own.</li>\n",
    "<li> Ask the user to confirm the start of the test. </li>\n",
    "<li> Once user confirmed, display a random sentence to the user from the 'sentences.txt' file and ask him/her to type it</li>\n",
    "<li> Measure the time it took the user to complete the sentence and display it.\n",
    "    <blockquote>\n",
    "        <b>Note</b>: Since sentences can be in differnet lengths, you should normalize the score considering the length of the chosen sentence\n",
    "    </blockquote>\n",
    "</li>\n",
    "<li> <b>Advanced</b>: Create an all-stars score board and present it at the begging of the test, so that users can evaluate their score in relation to others.\n",
    "    <blockquote>\n",
    "        <b>Hint</b>: use json.dump(file_path) in order to consistnetly save the results\n",
    "    </blockquote>\n",
    "</li>\n",
    "</ol>\n"
   ]
  }
 ],
 "metadata": {
  "kernelspec": {
   "display_name": "Python 3",
   "language": "python",
   "name": "python3"
  },
  "language_info": {
   "codemirror_mode": {
    "name": "ipython",
    "version": 3
   },
   "file_extension": ".py",
   "mimetype": "text/x-python",
   "name": "python",
   "nbconvert_exporter": "python",
   "pygments_lexer": "ipython3",
   "version": "3.7.6"
  }
 },
 "nbformat": 4,
 "nbformat_minor": 4
}
