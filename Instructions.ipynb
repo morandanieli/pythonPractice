{
 "cells": [
  {
   "cell_type": "markdown",
   "metadata": {},
   "source": [
    "# Top 3 Advanced Python Exercises for Beginners"
   ]
  },
  {
   "cell_type": "markdown",
   "metadata": {},
   "source": [
    "After many hours of teaching Python, I collected the most interesting and\n",
    "challenging exercises for Python developers who would like to improve their programming skills and knowledge.\n",
    "\n",
    "In this repository you'll find the following exercises:\n",
    "<ol>\n",
    "    <li><a href=\"https://github.com/morandanieli/pythonPractice/blob/master/english_dictionary/Instructions.ipynb\">Writing an English English dictionary</a>.</li>\n",
    "    <li><a href=\"https://github.com/morandanieli/pythonPractice/blob/master/speed_test/instructions.ipynb\">Writing a typing speed test</a>.</li>\n",
    "    <li><a href=\"https://github.com/morandanieli/pythonPractice/blob/master/memory_management/instructions.ipynb\">Writing a memory managment helper</a>.</li>\n",
    "</ol>\n",
    "\n",
    "All exercises have detailed instructions and a solution.\n",
    "\n",
    "<small>Practicing Python in a Zoom class</small>\n",
    "![title](img/python_class.jpg)\n"
   ]
  }
 ],
 "metadata": {
  "kernelspec": {
   "display_name": "Python 3",
   "language": "python",
   "name": "python3"
  },
  "language_info": {
   "codemirror_mode": {
    "name": "ipython",
    "version": 3
   },
   "file_extension": ".py",
   "mimetype": "text/x-python",
   "name": "python",
   "nbconvert_exporter": "python",
   "pygments_lexer": "ipython3",
   "version": "3.7.6"
  }
 },
 "nbformat": 4,
 "nbformat_minor": 4
}
